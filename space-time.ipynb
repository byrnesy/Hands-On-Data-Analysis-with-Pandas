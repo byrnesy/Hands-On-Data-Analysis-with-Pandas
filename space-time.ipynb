{
  "cells": [
    {
      "cell_type": "markdown",
      "metadata": {
        "id": "view-in-github",
        "colab_type": "text"
      },
      "source": [
        "<a href=\"https://colab.research.google.com/github/byrnesy/Hands-On-Data-Analysis-with-Pandas/blob/master/space-time.ipynb\" target=\"_parent\"><img src=\"https://colab.research.google.com/assets/colab-badge.svg\" alt=\"Open In Colab\"/></a>"
      ]
    },
    {
      "cell_type": "code",
      "source": [
        "!pip install spacetimelib"
      ],
      "metadata": {
        "colab": {
          "base_uri": "https://localhost:8080/"
        },
        "id": "6M5pKbg6tYu-",
        "outputId": "92402c50-fb9d-4ddb-f765-ea3645a149d1"
      },
      "execution_count": 2,
      "outputs": [
        {
          "output_type": "stream",
          "name": "stdout",
          "text": [
            "Collecting spacetimelib\n",
            "  Downloading spacetimelib-0.0.2-py3-none-any.whl (19 kB)\n",
            "Requirement already satisfied: numpy in /usr/local/lib/python3.10/dist-packages (from spacetimelib) (1.25.2)\n",
            "Installing collected packages: spacetimelib\n",
            "Successfully installed spacetimelib-0.0.2\n"
          ]
        }
      ]
    },
    {
      "cell_type": "code",
      "execution_count": 3,
      "metadata": {
        "id": "lIYdn1woOS1n"
      },
      "outputs": [],
      "source": [
        "import spacetimelib as st"
      ]
    },
    {
      "cell_type": "code",
      "source": [
        "alice_0 = st.Worldline([\n",
        "    # (t, x)\n",
        "    (0, 0),\n",
        "    (10.1, 10),\n",
        "    (20.2, 0)\n",
        "])\n",
        "\n",
        "bob_0 = st.Worldline([\n",
        "    (0, 0),\n",
        "    (20.2, 0)\n",
        "])"
      ],
      "metadata": {
        "id": "6LVrN8kJuZw8"
      },
      "execution_count": 4,
      "outputs": []
    },
    {
      "cell_type": "code",
      "source": [
        "bob_0.proper_time_delta(0, 20.2)"
      ],
      "metadata": {
        "id": "pthMeo3gul0E",
        "outputId": "ac4122ff-ec38-43a8-da54-d53ac19f1e18",
        "colab": {
          "base_uri": "https://localhost:8080/"
        }
      },
      "execution_count": 5,
      "outputs": [
        {
          "output_type": "execute_result",
          "data": {
            "text/plain": [
              "20.2"
            ]
          },
          "metadata": {},
          "execution_count": 5
        }
      ]
    },
    {
      "cell_type": "code",
      "source": [
        "alice_0.proper_time_delta(0, 20.2)"
      ],
      "metadata": {
        "id": "Sw2G_SiourYW",
        "outputId": "b6f06389-5aa4-456e-b71a-d0015a89c490",
        "colab": {
          "base_uri": "https://localhost:8080/"
        }
      },
      "execution_count": 6,
      "outputs": [
        {
          "output_type": "execute_result",
          "data": {
            "text/plain": [
              "2.8354893757515587"
            ]
          },
          "metadata": {},
          "execution_count": 6
        }
      ]
    }
  ],
  "metadata": {
    "colab": {
      "name": "scratchpad",
      "provenance": [],
      "include_colab_link": true
    },
    "kernelspec": {
      "display_name": "Python 3",
      "name": "python3"
    }
  },
  "nbformat": 4,
  "nbformat_minor": 0
}